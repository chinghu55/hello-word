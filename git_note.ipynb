{
 "cells": [
  {
   "attachments": {},
   "cell_type": "markdown",
   "metadata": {},
   "source": [
    "# Git \n",
    "> 參考網址: https://ithelp.ithome.com.tw/articles/10294118"
   ]
  },
  {
   "attachments": {},
   "cell_type": "markdown",
   "metadata": {},
   "source": [
    "## Git 工作區域分為三種\n",
    "Working Directory: 工作目錄，也就是在你本地電腦的資料夾\n",
    "Staging Area: 暫存區，在你要上傳檔案到遠端伺服器GitHub時，Git會先將你的檔案快照暫存起來，下Commit後才會存放到Repository。暫存區會放在本地端。\n",
    "Repository: 儲存庫，用來存放你提交的檔案。而儲存庫會放在遠端，也就是 GitHub。\n",
    "\n",
    "示意圖:\n",
    "working directory -[git add]>> staging area -[git commit -m \"Message\"]>> Repository(本地) <[git pull][git push]> Repository(遠端)"
   ]
  },
  {
   "attachments": {},
   "cell_type": "markdown",
   "metadata": {},
   "source": [
    "## Commit Message組成規範\n",
    "| Type         | 使用說明                  |\n",
    "|--------------|---------------------------|\n",
    "| feat:        | 新增或是修改功能          |\n",
    "| fix:         | 修補某個Bug               |\n",
    "| docs:        | 文件類檔案                |\n",
    "| style:       | 不影響功能的樣式、格式變動|\n",
    "| refactor:    | 重構、效能提升與程式碼優化|\n",
    "| perf:        | 改善效能                  |  \n",
    "| test:        | 增加測試功能              |\n",
    "| chore:       | 非關程式碼變動的一切調整  |\n",
    "| revert:      | 撤回先求的commit          |\n",
    "\n",
    "*Commit Message 就像是寫程式要寫註解一樣，好的 Message 會節省看 Code 的時間。*"
   ]
  },
  {
   "cell_type": "markdown",
   "metadata": {},
   "source": []
  }
 ],
 "metadata": {
  "kernelspec": {
   "display_name": "cole",
   "language": "python",
   "name": "python3"
  },
  "language_info": {
   "name": "python",
   "version": "3.9.7 (default, Sep 16 2021, 16:59:28) [MSC v.1916 64 bit (AMD64)]"
  },
  "orig_nbformat": 4,
  "vscode": {
   "interpreter": {
    "hash": "dd7cd1f145057b77512b6bbb4fa109f9d5b5e0c6b882669e4dd70e41fc9582d6"
   }
  }
 },
 "nbformat": 4,
 "nbformat_minor": 2
}
